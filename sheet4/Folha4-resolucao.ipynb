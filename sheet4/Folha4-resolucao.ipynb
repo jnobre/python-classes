{
 "cells": [
  {
   "cell_type": "markdown",
   "metadata": {},
   "source": [
    "# Folha 4"
   ]
  },
  {
   "cell_type": "markdown",
   "metadata": {},
   "source": [
    "### ex.1."
   ]
  },
  {
   "cell_type": "code",
   "execution_count": 1,
   "metadata": {},
   "outputs": [
    {
     "name": "stdout",
     "output_type": "stream",
     "text": [
      "0\n",
      "1\n",
      "2\n",
      "3\n",
      "4\n",
      "5\n",
      "6\n",
      "7\n",
      "8\n",
      "9\n"
     ]
    }
   ],
   "source": [
    "for i in range(10): \n",
    "    print(i)"
   ]
  },
  {
   "cell_type": "code",
   "execution_count": 3,
   "metadata": {},
   "outputs": [
    {
     "name": "stdout",
     "output_type": "stream",
     "text": [
      "2\n",
      "3\n",
      "4\n",
      "5\n",
      "6\n",
      "7\n",
      "8\n",
      "9\n"
     ]
    }
   ],
   "source": [
    "for i in range(2, 10): \n",
    "    print(i)"
   ]
  },
  {
   "cell_type": "code",
   "execution_count": 4,
   "metadata": {},
   "outputs": [
    {
     "name": "stdout",
     "output_type": "stream",
     "text": [
      "0\n",
      "2\n",
      "4\n",
      "6\n",
      "8\n"
     ]
    }
   ],
   "source": [
    "for i in range(0, 10, 2): \n",
    "    print(i)"
   ]
  },
  {
   "cell_type": "code",
   "execution_count": 5,
   "metadata": {},
   "outputs": [
    {
     "name": "stdout",
     "output_type": "stream",
     "text": [
      "-10\n",
      "-40\n",
      "-70\n"
     ]
    }
   ],
   "source": [
    "for i in range(-10, -100, -30): \n",
    "    print(i)"
   ]
  },
  {
   "cell_type": "code",
   "execution_count": 6,
   "metadata": {},
   "outputs": [
    {
     "name": "stdout",
     "output_type": "stream",
     "text": [
      "0\n"
     ]
    }
   ],
   "source": [
    "for i in range(0, 1, 2): \n",
    "    print(i)"
   ]
  },
  {
   "cell_type": "code",
   "execution_count": 7,
   "metadata": {},
   "outputs": [
    {
     "name": "stdout",
     "output_type": "stream",
     "text": [
      "0\n",
      "0\n",
      "0\n",
      "0\n",
      "0\n",
      "0\n",
      "0\n",
      "0\n",
      "0\n",
      "0\n",
      "0\n",
      "1\n",
      "2\n",
      "3\n",
      "4\n",
      "5\n",
      "6\n",
      "7\n",
      "8\n",
      "9\n",
      "0\n",
      "2\n",
      "4\n",
      "6\n",
      "8\n",
      "10\n",
      "12\n",
      "14\n",
      "16\n",
      "18\n",
      "0\n",
      "3\n",
      "6\n",
      "9\n",
      "12\n",
      "15\n",
      "18\n",
      "21\n",
      "24\n",
      "27\n",
      "0\n",
      "4\n",
      "8\n",
      "12\n",
      "16\n",
      "20\n",
      "24\n",
      "28\n",
      "32\n",
      "36\n",
      "0\n",
      "5\n",
      "10\n",
      "15\n",
      "20\n",
      "25\n",
      "30\n",
      "35\n",
      "40\n",
      "45\n",
      "0\n",
      "6\n",
      "12\n",
      "18\n",
      "24\n",
      "30\n",
      "36\n",
      "42\n",
      "48\n",
      "54\n",
      "0\n",
      "7\n",
      "14\n",
      "21\n",
      "28\n",
      "35\n",
      "42\n",
      "49\n",
      "56\n",
      "63\n",
      "0\n",
      "8\n",
      "16\n",
      "24\n",
      "32\n",
      "40\n",
      "48\n",
      "56\n",
      "64\n",
      "72\n",
      "0\n",
      "9\n",
      "18\n",
      "27\n",
      "36\n",
      "45\n",
      "54\n",
      "63\n",
      "72\n",
      "81\n"
     ]
    }
   ],
   "source": [
    "for i in range(10):\n",
    "    for j in range(10):\n",
    "        print(i*j)"
   ]
  },
  {
   "cell_type": "code",
   "execution_count": 9,
   "metadata": {},
   "outputs": [
    {
     "name": "stdout",
     "output_type": "stream",
     "text": [
      "0\n",
      "1\n",
      "2\n",
      "3\n",
      "4\n",
      "5\n",
      "6\n",
      "7\n",
      "8\n",
      "9\n"
     ]
    }
   ],
   "source": [
    "x=10\n",
    "for i in range(x):\n",
    "    print(i) \n",
    "    x=5"
   ]
  },
  {
   "cell_type": "code",
   "execution_count": 13,
   "metadata": {},
   "outputs": [
    {
     "name": "stdout",
     "output_type": "stream",
     "text": [
      "0\n",
      "0\n",
      "0\n",
      "0\n",
      "0\n",
      "0\n",
      "0\n",
      "0\n",
      "0\n",
      "0\n",
      "1\n",
      "1\n",
      "2\n",
      "2\n",
      "3\n",
      "3\n",
      "4\n",
      "4\n",
      "5\n",
      "5\n",
      "6\n",
      "6\n",
      "7\n",
      "7\n",
      "8\n",
      "8\n",
      "9\n",
      "9\n"
     ]
    }
   ],
   "source": [
    "x=10\n",
    "for i in range(x):\n",
    "    for j in range(x):\n",
    "        print(i)\n",
    "        x=2"
   ]
  },
  {
   "cell_type": "code",
   "execution_count": 14,
   "metadata": {},
   "outputs": [
    {
     "name": "stdout",
     "output_type": "stream",
     "text": [
      "H\n",
      "e\n",
      "l\n",
      "l\n",
      "o\n"
     ]
    }
   ],
   "source": [
    "a = \"Hello\"\n",
    "for i in range(len(a)):\n",
    "    print(a[i])"
   ]
  },
  {
   "cell_type": "code",
   "execution_count": 15,
   "metadata": {},
   "outputs": [
    {
     "name": "stdout",
     "output_type": "stream",
     "text": [
      "H\n",
      "e\n",
      "l\n",
      "l\n",
      "o\n"
     ]
    }
   ],
   "source": [
    "for i in \"Hello\": \n",
    "    print(i)"
   ]
  },
  {
   "cell_type": "markdown",
   "metadata": {},
   "source": [
    "### ex.2."
   ]
  },
  {
   "cell_type": "code",
   "execution_count": 17,
   "metadata": {},
   "outputs": [
    {
     "name": "stdout",
     "output_type": "stream",
     "text": [
      "0\n",
      "4\n",
      "8\n",
      "12\n",
      "16\n",
      "20\n",
      "24\n",
      "28\n",
      "32\n",
      "36\n",
      "40\n",
      "44\n",
      "48\n"
     ]
    }
   ],
   "source": [
    "for i in range (0,50,4):\n",
    "        print(i)"
   ]
  },
  {
   "cell_type": "markdown",
   "metadata": {},
   "source": [
    "### ex.3."
   ]
  },
  {
   "cell_type": "code",
   "execution_count": 18,
   "metadata": {},
   "outputs": [
    {
     "name": "stdout",
     "output_type": "stream",
     "text": [
      "(1, 0)\n",
      "(2, 0)\n",
      "(2, 1)\n",
      "(3, 0)\n",
      "(3, 1)\n",
      "(3, 2)\n",
      "(4, 0)\n",
      "(4, 1)\n",
      "(4, 2)\n",
      "(4, 3)\n",
      "(5, 0)\n",
      "(5, 1)\n",
      "(5, 2)\n",
      "(5, 3)\n",
      "(5, 4)\n",
      "(6, 0)\n",
      "(6, 1)\n",
      "(6, 2)\n",
      "(6, 3)\n",
      "(6, 4)\n",
      "(6, 5)\n",
      "(7, 0)\n",
      "(7, 1)\n",
      "(7, 2)\n",
      "(7, 3)\n",
      "(7, 4)\n",
      "(7, 5)\n",
      "(7, 6)\n",
      "(8, 0)\n",
      "(8, 1)\n",
      "(8, 2)\n",
      "(8, 3)\n",
      "(8, 4)\n",
      "(8, 5)\n",
      "(8, 6)\n",
      "(8, 7)\n",
      "(9, 0)\n",
      "(9, 1)\n",
      "(9, 2)\n",
      "(9, 3)\n",
      "(9, 4)\n",
      "(9, 5)\n",
      "(9, 6)\n",
      "(9, 7)\n",
      "(9, 8)\n"
     ]
    }
   ],
   "source": [
    "for i in range(10):\n",
    "    for j in range(i):\n",
    "        print(i, j)"
   ]
  },
  {
   "cell_type": "markdown",
   "metadata": {},
   "source": [
    "### ex.4."
   ]
  },
  {
   "cell_type": "markdown",
   "metadata": {},
   "source": [
    "#### a)"
   ]
  },
  {
   "cell_type": "markdown",
   "metadata": {},
   "source": [
    "Acumula os valores de pares e dos impares até ao número introduzido pelo utilizador."
   ]
  },
  {
   "cell_type": "markdown",
   "metadata": {},
   "source": [
    "#### b)"
   ]
  },
  {
   "cell_type": "code",
   "execution_count": 24,
   "metadata": {},
   "outputs": [
    {
     "name": "stdout",
     "output_type": "stream",
     "text": [
      "Introduza um numero10\n",
      "20\n",
      "25\n"
     ]
    }
   ],
   "source": [
    "numero = int(input(\"Introduza um numero\")) \n",
    "x=0\n",
    "y=0\n",
    "for n in range(0, numero, 2):\n",
    "    x += n #soma dos pares\n",
    "for n in range(1, numero, 2):\n",
    "    y += n #soma dos impares\n",
    "print(x)\n",
    "print(y)"
   ]
  },
  {
   "cell_type": "code",
   "execution_count": 44,
   "metadata": {},
   "outputs": [
    {
     "name": "stdout",
     "output_type": "stream",
     "text": [
      "Introduza um numero10\n",
      "20\n",
      "25\n"
     ]
    }
   ],
   "source": [
    "numero = int(input(\"Introduza um numero\")) \n",
    "x=0\n",
    "y=0\n",
    "for n in range(0, numero, 2):\n",
    "    x += n #soma dos pares\\\n",
    "    y += n + 1\n",
    "print(x)\n",
    "print(y)"
   ]
  },
  {
   "cell_type": "markdown",
   "metadata": {},
   "source": [
    "#### c)"
   ]
  },
  {
   "cell_type": "code",
   "execution_count": 45,
   "metadata": {},
   "outputs": [
    {
     "name": "stdout",
     "output_type": "stream",
     "text": [
      "Introduza um numero10\n",
      "20\n",
      "25\n"
     ]
    }
   ],
   "source": [
    "numero = int(input(\"Introduza um numero\")) \n",
    "x = [0,0]\n",
    "for n in range(0, numero):\n",
    "    x[ n % 2 ] += n \n",
    "print( x[ 0 ] )\n",
    "print( x[ 1 ] )"
   ]
  },
  {
   "cell_type": "markdown",
   "metadata": {},
   "source": [
    "#### d)"
   ]
  },
  {
   "cell_type": "code",
   "execution_count": 28,
   "metadata": {},
   "outputs": [
    {
     "name": "stdout",
     "output_type": "stream",
     "text": [
      "Introduza um numero100\n",
      "20\n",
      "25\n"
     ]
    }
   ],
   "source": [
    "numero = int(input(\"Introduza um numero\")) \n",
    "x = [0,0]\n",
    "for n in range(0, numero):\n",
    "    if( x[ n % 2 ] < 20  ):\n",
    "        x[ n % 2 ] += n \n",
    "print( x[ 0 ] )\n",
    "print( x[ 1 ] )"
   ]
  },
  {
   "cell_type": "markdown",
   "metadata": {},
   "source": [
    "### ex.8"
   ]
  },
  {
   "cell_type": "code",
   "execution_count": 29,
   "metadata": {},
   "outputs": [
    {
     "name": "stdout",
     "output_type": "stream",
     "text": [
      "p\n",
      "r\n",
      "o\n",
      "g\n",
      "r\n",
      "a\n",
      "m\n",
      "a\n",
      "c\n",
      "a\n",
      "o\n",
      "-\n",
      "1\n"
     ]
    }
   ],
   "source": [
    "texto = \"programacao-1\"\n",
    "for c in texto:\n",
    "    print(c)"
   ]
  },
  {
   "cell_type": "markdown",
   "metadata": {},
   "source": [
    "#### a)"
   ]
  },
  {
   "cell_type": "markdown",
   "metadata": {},
   "source": [
    "Imprime os caracteres da string texto, um por linha."
   ]
  },
  {
   "cell_type": "markdown",
   "metadata": {},
   "source": [
    "#### b)"
   ]
  },
  {
   "cell_type": "code",
   "execution_count": 30,
   "metadata": {},
   "outputs": [
    {
     "name": "stdout",
     "output_type": "stream",
     "text": [
      "p\n",
      "r\n",
      "g\n",
      "r\n",
      "m\n",
      "c\n",
      "-\n",
      "1\n"
     ]
    }
   ],
   "source": [
    "texto = \"programacao-1\"\n",
    "for c in texto:\n",
    "    if c.lower( ) not in ( 'a' , 'e' , 'i' , 'o' , 'u' ):\n",
    "        print(c)"
   ]
  },
  {
   "cell_type": "markdown",
   "metadata": {},
   "source": [
    "#### c)"
   ]
  },
  {
   "cell_type": "code",
   "execution_count": 35,
   "metadata": {},
   "outputs": [
    {
     "name": "stdout",
     "output_type": "stream",
     "text": [
      "p r g r m c - 1\n"
     ]
    }
   ],
   "source": [
    "texto = \"programacao-1\"\n",
    "for c in texto:\n",
    "    if c.lower( ) not in ( 'a' , 'e' , 'i' , 'o' , 'u' ):\n",
    "        print c,"
   ]
  },
  {
   "cell_type": "markdown",
   "metadata": {},
   "source": [
    "### ex.9"
   ]
  },
  {
   "cell_type": "code",
   "execution_count": 36,
   "metadata": {},
   "outputs": [
    {
     "name": "stdout",
     "output_type": "stream",
     "text": [
      "o\n",
      "l\n",
      "a\n"
     ]
    }
   ],
   "source": [
    "texto = \"ola\"\n",
    "for i in range(0 , len(texto)):\n",
    "        print texto[ i ]"
   ]
  },
  {
   "cell_type": "markdown",
   "metadata": {},
   "source": [
    "## Problemas"
   ]
  },
  {
   "cell_type": "markdown",
   "metadata": {},
   "source": [
    "#### ex.11."
   ]
  },
  {
   "cell_type": "code",
   "execution_count": 37,
   "metadata": {},
   "outputs": [
    {
     "name": "stdout",
     "output_type": "stream",
     "text": [
      "Introduza um número inteiro:10\n",
      "0 0 0 0 0 0 0 0 0 0\n",
      "0 1 2 3 4 5 6 7 8 9\n",
      "0 2 4 6 8 10 12 14 16 18\n",
      "0 3 6 9 12 15 18 21 24 27\n",
      "0 4 8 12 16 20 24 28 32 36\n",
      "0 5 10 15 20 25 30 35 40 45\n",
      "0 6 12 18 24 30 36 42 48 54\n",
      "0 7 14 21 28 35 42 49 56 63\n",
      "0 8 16 24 32 40 48 56 64 72\n",
      "0 9 18 27 36 45 54 63 72 81\n"
     ]
    }
   ],
   "source": [
    "numero = int( raw_input( \"Introduza um número inteiro:\" ) )\n",
    "for i in range(numero):\n",
    "    for j in range(numero):\n",
    "        print i*j,\n",
    "    print "
   ]
  },
  {
   "cell_type": "markdown",
   "metadata": {},
   "source": [
    "#### ex.13"
   ]
  },
  {
   "cell_type": "code",
   "execution_count": 40,
   "metadata": {},
   "outputs": [
    {
     "name": "stdout",
     "output_type": "stream",
     "text": [
      "Introduza um número inteiro:10\n",
      "+ + + + + + + + + +\n",
      "# + + + + + + + + +\n",
      "# # + + + + + + + +\n",
      "# # # + + + + + + +\n",
      "# # # # + + + + + +\n",
      "# # # # # + + + + +\n",
      "# # # # # # + + + +\n",
      "# # # # # # # + + +\n",
      "# # # # # # # # + +\n",
      "# # # # # # # # # +\n"
     ]
    }
   ],
   "source": [
    "numero = int( raw_input( \"Introduza um número inteiro:\" )) \n",
    "for i in range(numero):\n",
    "    for j in range(numero):\n",
    "        if i <= j:\n",
    "            print \"+\",\n",
    "        else:\n",
    "            print \"#\",\n",
    "    print "
   ]
  },
  {
   "cell_type": "markdown",
   "metadata": {},
   "source": [
    "### Exemplo de print para o projecto"
   ]
  },
  {
   "cell_type": "code",
   "execution_count": 52,
   "metadata": {},
   "outputs": [
    {
     "name": "stdout",
     "output_type": "stream",
     "text": [
      "*** Ronda 5 ***\n",
      "Dealer: (8, 'c')(?,?)\n",
      "Jogador: (10, 'c')('A', 'P') - 10 -\n"
     ]
    }
   ],
   "source": [
    "jogadorMao = [(10,'c'),('A','P')]\n",
    "dealerMao = [(8,'c'),(7,'P')]\n",
    "valor=10\n",
    "ronda=5\n",
    "print( \"*** Ronda {0} ***\".format( ronda ) )\n",
    "print( \"Dealer: {0}(?,?)\".format(dealerMao[0]) )\n",
    "print( \"Jogador: {0}{1} - {2} -\".format(jogadorMao[0],jogadorMao[1],valor) )"
   ]
  }
 ],
 "metadata": {
  "kernelspec": {
   "display_name": "Python 2",
   "language": "python",
   "name": "python2"
  },
  "language_info": {
   "codemirror_mode": {
    "name": "ipython",
    "version": 2
   },
   "file_extension": ".py",
   "mimetype": "text/x-python",
   "name": "python",
   "nbconvert_exporter": "python",
   "pygments_lexer": "ipython2",
   "version": "2.7.13"
  }
 },
 "nbformat": 4,
 "nbformat_minor": 2
}
