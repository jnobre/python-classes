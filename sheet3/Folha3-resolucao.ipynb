{
 "cells": [
  {
   "cell_type": "markdown",
   "metadata": {},
   "source": [
    "# Folha 3 - ciclos while"
   ]
  },
  {
   "cell_type": "markdown",
   "metadata": {},
   "source": [
    "### ex.1 "
   ]
  },
  {
   "cell_type": "code",
   "execution_count": 1,
   "metadata": {},
   "outputs": [
    {
     "name": "stdout",
     "output_type": "stream",
     "text": [
      "1\n",
      "2\n",
      "3\n",
      "4\n",
      "5\n",
      "6\n",
      "7\n",
      "8\n",
      "9\n",
      "10\n"
     ]
    }
   ],
   "source": [
    "n = 1\n",
    "while n <= 10:\n",
    "    print( n )\n",
    "    n = n + 1"
   ]
  },
  {
   "cell_type": "markdown",
   "metadata": {},
   "source": [
    "### ex.2"
   ]
  },
  {
   "cell_type": "code",
   "execution_count": 8,
   "metadata": {},
   "outputs": [
    {
     "name": "stdout",
     "output_type": "stream",
     "text": [
      "5\n"
     ]
    }
   ],
   "source": [
    "x = 1\n",
    "y = 1\n",
    "while x == 1 and y < 5: #Erro no operador de atribuição e no simbolo de final de linha\n",
    "    y = y + 2\n",
    "print y"
   ]
  },
  {
   "cell_type": "markdown",
   "metadata": {},
   "source": [
    "### ex.3"
   ]
  },
  {
   "cell_type": "code",
   "execution_count": 9,
   "metadata": {},
   "outputs": [
    {
     "name": "stdout",
     "output_type": "stream",
     "text": [
      "Escreve um número inteiro: 4\n",
      "('Tabuada do', 4, ':')\n",
      "(4, 'x', 1, '=', 4)\n",
      "(4, 'x', 2, '=', 8)\n",
      "(4, 'x', 3, '=', 12)\n",
      "(4, 'x', 4, '=', 16)\n",
      "(4, 'x', 5, '=', 20)\n",
      "(4, 'x', 6, '=', 24)\n",
      "(4, 'x', 7, '=', 28)\n",
      "(4, 'x', 8, '=', 32)\n",
      "(4, 'x', 9, '=', 36)\n",
      "(4, 'x', 10, '=', 40)\n"
     ]
    }
   ],
   "source": [
    "n = int(input(\"Escreve um número inteiro: \")) \n",
    "print(\"Tabuada do\", n, \":\") \n",
    "i = 1 \n",
    "while i <= 10:     \n",
    "    print(n, \"x\", i, \"=\", n * i)     \n",
    "    i = i + 1   #Acrescentava sem "
   ]
  },
  {
   "cell_type": "markdown",
   "metadata": {},
   "source": [
    "### ex.4"
   ]
  },
  {
   "cell_type": "code",
   "execution_count": 69,
   "metadata": {},
   "outputs": [
    {
     "name": "stdout",
     "output_type": "stream",
     "text": [
      "Adivinha a palavra chave:\"dsc\"\n",
      "Adivinha a palavra chave:\"IlovePython\"\n",
      "Adivinha a palavra chave:IlovePython\n",
      "muito bem, acertaste!\n"
     ]
    }
   ],
   "source": [
    "p = \"IlovePython\"\n",
    "x = \"\"\n",
    "while x !=  p:\n",
    "    x = raw_input(\"Adivinha a palavra chave:\")\n",
    "print( \"muito bem, acertaste!\" )"
   ]
  },
  {
   "cell_type": "markdown",
   "metadata": {},
   "source": [
    "#### a)"
   ]
  },
  {
   "cell_type": "markdown",
   "metadata": {},
   "source": [
    "Compara uma string inserida pelo utilizador com a string p (\"IlovePython\") até o utilizador acertar."
   ]
  },
  {
   "cell_type": "markdown",
   "metadata": {},
   "source": [
    "#### b)"
   ]
  },
  {
   "cell_type": "code",
   "execution_count": 17,
   "metadata": {},
   "outputs": [
    {
     "name": "stdout",
     "output_type": "stream",
     "text": [
      "Adivinha a palavra chave:sdcs\n",
      "Adivinha a palavra chave:IlovePython\n",
      "('muito bem, acertaste! Em ', 2, ' tentativas!')\n"
     ]
    }
   ],
   "source": [
    "p = \"IlovePython\"\n",
    "x = \"\"\n",
    "t = 0\n",
    "while x !=  p:\n",
    "    t = t + 1\n",
    "    x = raw_input(\"Adivinha a palavra chave:\")\n",
    "print( \"muito bem, acertaste! Em \", t,\" tentativas!\" )"
   ]
  },
  {
   "cell_type": "markdown",
   "metadata": {},
   "source": [
    "### ex. 5"
   ]
  },
  {
   "cell_type": "code",
   "execution_count": 21,
   "metadata": {},
   "outputs": [
    {
     "name": "stdout",
     "output_type": "stream",
     "text": [
      "Introduza um número:1\n",
      "Introduza um número:2\n",
      "Introduza um número:3\n",
      "Introduza um número:4\n",
      "Introduza um número:5\n",
      "Introduza um número:6\n",
      "Introduza um número:7\n",
      "Introduza um número:8\n",
      "Introduza um número:9\n",
      "Introduza um número:10\n",
      "('Soma dos numeros pares: ', 30, 'Soma de numero impares:', 25)\n"
     ]
    }
   ],
   "source": [
    "n = 1\n",
    "somaPar = 0\n",
    "somaImpar = 0\n",
    "while n <= 10:\n",
    "    num = int(raw_input( \"Introduza um número:\" ))\n",
    "    if num % 2 == 0: # par\n",
    "        somaPar = somaPar + num\n",
    "    else:\n",
    "        somaImpar = somaImpar + num\n",
    "    n = n + 1\n",
    "print( \"Soma dos numeros pares: \",somaPar,\"Soma de numero impares:\",somaImpar )\n",
    "        "
   ]
  },
  {
   "cell_type": "markdown",
   "metadata": {},
   "source": [
    "### ex.6"
   ]
  },
  {
   "cell_type": "code",
   "execution_count": 23,
   "metadata": {},
   "outputs": [
    {
     "name": "stdout",
     "output_type": "stream",
     "text": [
      "Dividendo: 5\n",
      "Divisor: 4\n",
      "('O quociente e', 1, 'e o resto e', 1)\n"
     ]
    }
   ],
   "source": [
    "dividendo = int(input(\"Dividendo: \")) \n",
    "divisor = int(input(\"Divisor: \")) \n",
    "resto = dividendo \n",
    "quociente = 0 \n",
    "while resto >= divisor:     \n",
    "    resto = resto - divisor     \n",
    "    quociente = quociente + 1 \n",
    "print(\"O quociente e\", quociente, \"e o resto e\", resto) "
   ]
  },
  {
   "cell_type": "markdown",
   "metadata": {},
   "source": [
    "#### a)"
   ]
  },
  {
   "cell_type": "markdown",
   "metadata": {},
   "source": [
    "Divisão inteira."
   ]
  },
  {
   "cell_type": "markdown",
   "metadata": {},
   "source": [
    "#### b)"
   ]
  },
  {
   "cell_type": "markdown",
   "metadata": {},
   "source": [
    "/ -> divisão e // ->  parte inteira da divisão."
   ]
  },
  {
   "cell_type": "markdown",
   "metadata": {},
   "source": [
    "#### c)"
   ]
  },
  {
   "cell_type": "code",
   "execution_count": 25,
   "metadata": {},
   "outputs": [
    {
     "name": "stdout",
     "output_type": "stream",
     "text": [
      "Dividendo: 1\n",
      "Divisor: 3\n",
      "Dividendo tem quer ser menor que o divisor!\n",
      "Dividendo: 4\n",
      "Divisor: 2\n",
      "('O quociente e', 2, 'e o resto e', 0)\n"
     ]
    }
   ],
   "source": [
    "dividendo = -1\n",
    "divisor = 1\n",
    "while 1:\n",
    "    dividendo = int(input(\"Dividendo: \")) \n",
    "    divisor = int(input(\"Divisor: \")) \n",
    "    if dividendo < divisor:\n",
    "        print( \"Dividendo tem quer ser menor que o divisor!\" )\n",
    "    else:\n",
    "        break\n",
    "resto = dividendo \n",
    "quociente = 0 \n",
    "while resto >= divisor:     \n",
    "    resto = resto - divisor     \n",
    "    quociente = quociente + 1 \n",
    "print(\"O quociente e\", quociente, \"e o resto e\", resto) "
   ]
  },
  {
   "cell_type": "markdown",
   "metadata": {},
   "source": [
    "#### d)"
   ]
  },
  {
   "cell_type": "code",
   "execution_count": 26,
   "metadata": {},
   "outputs": [
    {
     "name": "stdout",
     "output_type": "stream",
     "text": [
      "Dividendo: -1\n",
      "Divisor: 3\n",
      "Dividendo tem quer ser menor que o divisor! E ambos os numeros tem que ser positivos!\n",
      "Dividendo: 3\n",
      "Divisor: -1\n",
      "Dividendo tem quer ser menor que o divisor! E ambos os numeros tem que ser positivos!\n",
      "Dividendo: 1\n",
      "Divisor: 2\n",
      "Dividendo tem quer ser menor que o divisor! E ambos os numeros tem que ser positivos!\n",
      "Dividendo: 4\n",
      "Divisor: 2\n",
      "('O quociente e', 2, 'e o resto e', 0)\n"
     ]
    }
   ],
   "source": [
    "dividendo = -1\n",
    "divisor = 1\n",
    "while 1:\n",
    "    dividendo = int(input(\"Dividendo: \")) \n",
    "    divisor = int(input(\"Divisor: \")) \n",
    "    if dividendo < divisor or dividendo < 0 or divisor < 0:\n",
    "        print( \"Dividendo tem quer ser menor que o divisor! E ambos os numeros tem que ser positivos!\" )\n",
    "    else:\n",
    "        break\n",
    "resto = dividendo \n",
    "quociente = 0 \n",
    "while resto >= divisor:     \n",
    "    resto = resto - divisor     \n",
    "    quociente = quociente + 1 \n",
    "print(\"O quociente e\", quociente, \"e o resto e\", resto) "
   ]
  },
  {
   "cell_type": "markdown",
   "metadata": {},
   "source": [
    "### ex.7"
   ]
  },
  {
   "cell_type": "code",
   "execution_count": 40,
   "metadata": {},
   "outputs": [
    {
     "name": "stdout",
     "output_type": "stream",
     "text": [
      "Introduza o 1º numero:4\n",
      "Introduza o 1º numero:0\n",
      "('Multiplicacao=', 4)\n"
     ]
    }
   ],
   "source": [
    "num1 = int( raw_input( \"Introduza o 1º numero:\" ) )\n",
    "num2 = int( raw_input( \"Introduza o 1º numero:\" ) )\n",
    "result = 0\n",
    "counter = 1\n",
    "if num1 == 0 or num2 == 0:\n",
    "    counter = num2\n",
    "while counter <= num2:\n",
    "    result = result + num1\n",
    "    counter = counter + 1\n",
    "print( \"Multiplicacao=\",result )\n"
   ]
  },
  {
   "cell_type": "markdown",
   "metadata": {},
   "source": [
    "### ex.8"
   ]
  },
  {
   "cell_type": "code",
   "execution_count": 41,
   "metadata": {
    "collapsed": true
   },
   "outputs": [],
   "source": [
    "while i <= 3:     \n",
    "    while j <= 3:         \n",
    "        print(\"(\" + str(i) + \",\" + str(j) + \")\")              \n",
    "        j = j + 1     \n",
    "    i = i + 1 "
   ]
  },
  {
   "cell_type": "markdown",
   "metadata": {},
   "source": [
    "#### a)"
   ]
  },
  {
   "cell_type": "code",
   "execution_count": 49,
   "metadata": {},
   "outputs": [
    {
     "name": "stdout",
     "output_type": "stream",
     "text": [
      "(0,0)\n",
      "(0,1)\n",
      "(0,2)\n",
      "(0,3)\n",
      "(1,0)\n",
      "(1,1)\n",
      "(1,2)\n",
      "(1,3)\n",
      "(2,0)\n",
      "(2,1)\n",
      "(2,2)\n",
      "(2,3)\n",
      "(3,0)\n",
      "(3,1)\n",
      "(3,2)\n",
      "(3,3)\n"
     ]
    }
   ],
   "source": [
    "i = 0\n",
    "while i <= 3:  \n",
    "    j = 0\n",
    "    while j <= 3:         \n",
    "        print(\"(\" + str(i) + \",\" + str(j) + \")\")              \n",
    "        j = j + 1     \n",
    "    i = i + 1"
   ]
  },
  {
   "cell_type": "markdown",
   "metadata": {},
   "source": [
    "#### b)"
   ]
  },
  {
   "cell_type": "code",
   "execution_count": 51,
   "metadata": {},
   "outputs": [
    {
     "name": "stdout",
     "output_type": "stream",
     "text": [
      "(0,1)\n",
      "(0,2)\n",
      "(0,3)\n",
      "(1,0)\n",
      "(1,2)\n",
      "(1,3)\n",
      "(2,0)\n",
      "(2,1)\n",
      "(2,3)\n",
      "(3,0)\n",
      "(3,1)\n",
      "(3,2)\n"
     ]
    }
   ],
   "source": [
    "i = 0\n",
    "while i <= 3:  \n",
    "    j = 0\n",
    "    while j <= 3:\n",
    "        if i != j:\n",
    "            print(\"(\" + str(i) + \",\" + str(j) + \")\")              \n",
    "        j = j + 1     \n",
    "    i = i + 1"
   ]
  },
  {
   "cell_type": "markdown",
   "metadata": {},
   "source": [
    "#### c)"
   ]
  },
  {
   "cell_type": "code",
   "execution_count": 54,
   "metadata": {},
   "outputs": [
    {
     "name": "stdout",
     "output_type": "stream",
     "text": [
      "(0,0)\n",
      "(0,1)\n",
      "(0,2)\n",
      "(0,3)\n",
      "(1,1)\n",
      "(1,2)\n",
      "(1,3)\n",
      "(2,2)\n",
      "(2,3)\n",
      "(3,3)\n"
     ]
    }
   ],
   "source": [
    "i = 0\n",
    "while i <= 3:  \n",
    "    j = i\n",
    "    while j <= 3:\n",
    "        print(\"(\" + str(i) + \",\" + str(j) + \")\")              \n",
    "        j = j + 1     \n",
    "    i = i + 1"
   ]
  },
  {
   "cell_type": "markdown",
   "metadata": {},
   "source": [
    "#### d)"
   ]
  },
  {
   "cell_type": "code",
   "execution_count": 55,
   "metadata": {},
   "outputs": [
    {
     "name": "stdout",
     "output_type": "stream",
     "text": [
      "(0,0)\n",
      "(0,1)\n",
      "(0,2)\n",
      "(0,3)\n",
      "(1,1)\n",
      "(1,2)\n",
      "(1,3)\n",
      "(2,2)\n",
      "(2,3)\n",
      "(3,3)\n",
      "('Numero de pares: ', 10)\n"
     ]
    }
   ],
   "source": [
    "i = 0\n",
    "counter = 0\n",
    "while i <= 3:  \n",
    "    j = i\n",
    "    while j <= 3:\n",
    "        counter = counter + 1\n",
    "        print(\"(\" + str(i) + \",\" + str(j) + \")\")              \n",
    "        j = j + 1     \n",
    "    i = i + 1\n",
    "print( \"Numero de pares: \", counter )"
   ]
  },
  {
   "cell_type": "markdown",
   "metadata": {},
   "source": [
    "### ex.9"
   ]
  },
  {
   "cell_type": "code",
   "execution_count": 58,
   "metadata": {},
   "outputs": [
    {
     "name": "stdout",
     "output_type": "stream",
     "text": [
      "Escreve um número inteiro: 9\n",
      "Factorial de 1: 1\n",
      "Factorial de 2: 2\n",
      "Factorial de 3: 6\n",
      "Factorial de 4: 24\n",
      "Factorial de 5: 120\n",
      "Factorial de 6: 720\n"
     ]
    }
   ],
   "source": [
    "n = int(input(\"Escreve um número inteiro: \")) \n",
    "current_n = 1 \n",
    "while current_n <= n:     \n",
    "    i = current_n     \n",
    "    f = 1     \n",
    "    while i > 1:         \n",
    "        f = f * i         \n",
    "        i = i - 1   \n",
    "    if( f < 1000 ):\n",
    "        print(\"Factorial de \" + str(current_n) + \": \" + str(f))     \n",
    "    current_n = current_n + 1 "
   ]
  },
  {
   "cell_type": "markdown",
   "metadata": {},
   "source": [
    "### ex.10"
   ]
  },
  {
   "cell_type": "code",
   "execution_count": null,
   "metadata": {
    "collapsed": true
   },
   "outputs": [],
   "source": [
    "while x >= 1:     \n",
    "    x = x - 1     \n",
    "    if x == 1:         \n",
    "        x = 0     \n",
    "    else:         \n",
    "        x = 1 "
   ]
  },
  {
   "cell_type": "code",
   "execution_count": 63,
   "metadata": {},
   "outputs": [
    {
     "name": "stdout",
     "output_type": "stream",
     "text": [
      "Introduza numero:11\n",
      "Numero impares no intervalo 0 a 11: 6\n"
     ]
    }
   ],
   "source": [
    "num = int(raw_input( \"Introduza numero:\" ))\n",
    "countImpares = 0\n",
    "counter = 0\n",
    "while counter <= num:\n",
    "    if counter % 2 != 0:\n",
    "        countImpares = countImpares + 1\n",
    "    counter = counter + 1\n",
    "print( \"Numero impares no intervalo 0 a \"+str(num)+\": \"+str(countImpares) )\n",
    "    "
   ]
  },
  {
   "cell_type": "markdown",
   "metadata": {},
   "source": [
    "## ex.11"
   ]
  },
  {
   "cell_type": "markdown",
   "metadata": {},
   "source": [
    "### TODO!"
   ]
  }
 ],
 "metadata": {
  "kernelspec": {
   "display_name": "Python 2",
   "language": "python",
   "name": "python2"
  },
  "language_info": {
   "codemirror_mode": {
    "name": "ipython",
    "version": 2
   },
   "file_extension": ".py",
   "mimetype": "text/x-python",
   "name": "python",
   "nbconvert_exporter": "python",
   "pygments_lexer": "ipython2",
   "version": "2.7.13"
  }
 },
 "nbformat": 4,
 "nbformat_minor": 2
}
