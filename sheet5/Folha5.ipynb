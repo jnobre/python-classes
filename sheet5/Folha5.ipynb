{
 "cells": [
  {
   "cell_type": "markdown",
   "metadata": {},
   "source": [
    "# Folha 5"
   ]
  },
  {
   "cell_type": "markdown",
   "metadata": {},
   "source": [
    "#### ex1."
   ]
  },
  {
   "cell_type": "code",
   "execution_count": 1,
   "metadata": {},
   "outputs": [
    {
     "name": "stdout",
     "output_type": "stream",
     "text": [
      "3\n",
      "4\n",
      "2\n",
      "1\n"
     ]
    }
   ],
   "source": [
    "def divisaoInteira(x, y):\n",
    "    \"\"\"Divide dois inteiros dados\n",
    "    Requires: x e y sejam int e y!=0\n",
    "    Ensures: um int correspondente ah divisao inteira\n",
    "    de x por y\n",
    "    \"\"\"\n",
    "    return x//y\n",
    "a = divisaoInteira(6, 2)\n",
    "print(a)\n",
    "b = a + divisaoInteira(9,5)\n",
    "print(b)\n",
    "c = divisaoInteira(4, divisaoInteira(2,1))\n",
    "print(c)\n",
    "print(divisaoInteira(4+5, 2+3))\n"
   ]
  },
  {
   "cell_type": "code",
   "execution_count": 4,
   "metadata": {},
   "outputs": [
    {
     "name": "stdout",
     "output_type": "stream",
     "text": [
      "Divisão de 3 por 3: 1\n"
     ]
    }
   ],
   "source": [
    "def mensagemDivInt(x, y):\n",
    "    if y == 0:\n",
    "        return \"Divisão por zero\"\n",
    "    else:\n",
    "        return \"Divisão de \" + str(x) + \" por \" \\\n",
    "          + str(y) + \": \" + str(x//y)\n",
    "c = mensagemDivInt( 3 , 3 ) \n",
    "print( c )"
   ]
  },
  {
   "cell_type": "code",
   "execution_count": 5,
   "metadata": {},
   "outputs": [
    {
     "name": "stdout",
     "output_type": "stream",
     "text": [
      "Divisão de 9 por 4: 2\n",
      "Resultado da Divisão de 7 por -2: -4\n",
      "Divisão por zero\n",
      "Divisão de 15 por -2: -8\n"
     ]
    }
   ],
   "source": [
    "def mensagemDivInt(x, y):\n",
    "    if y == 0:\n",
    "        return \"Divisão por zero\"\n",
    "    else: #desnecessário\n",
    "        return \"Divisão de \" + str(x) + \" por \" + str(y) + \": \" + str( divisaoInteira( divisaoInteira(x,y), y ) )\n",
    "        \n",
    "def divisaoInteira(x, y):\n",
    "    \"\"\"Divide dois inteiros dados\n",
    "    Requires: x e y sejam int e y!=0\n",
    "    Ensures: um int correspondente ah divisao inteira\n",
    "    de x por y\n",
    "    \"\"\"\n",
    "    return x//y      \n",
    "        \n",
    "        \n",
    "print(mensagemDivInt(4+5, 2+2))\n",
    "msg = mensagemDivInt(7, -2)\n",
    "print(\"Resultado da \" + msg)\n",
    "print(mensagemDivInt(3, 0))\n",
    "a = 15\n",
    "print(mensagemDivInt(a,-2))"
   ]
  },
  {
   "cell_type": "code",
   "execution_count": 12,
   "metadata": {},
   "outputs": [
    {
     "name": "stdout",
     "output_type": "stream",
     "text": [
      "600.0\n",
      "800.0\n",
      "400.0\n",
      "600.0\n",
      "400.0\n",
      "600.0\n"
     ]
    }
   ],
   "source": [
    "def calculaOrdenado(base, irs=0.30, ss=0.10, outros=0):\n",
    "    \"\"\" Calcula o ordenado liquido (apos descontos)\n",
    "    Calcula o ordenado liquido dados o valor do ordenado bruto\n",
    "    (base) e duas taxas de descontos, a do irs (irs), a da seguranca\n",
    "    social (ss), e ainda o montante de outros descontos (outros)\n",
    "    Requires: base é float, base > 0, 0<=irs<=1, 0<=ss<=1\n",
    "    Ensures: um float com o valor do ordenado liquido\n",
    "    \"\"\"\n",
    "    #print irs,ss,outros\n",
    "    descontos = base * irs + base * ss + outros\n",
    "    return base - descontos\n",
    "\n",
    "print(calculaOrdenado(1000.0))\n",
    "print(calculaOrdenado(1000.0, 0, 0, 200))\n",
    "print(calculaOrdenado(1000.0, outros = 200))\n",
    "print(calculaOrdenado(1000.0, 0.20, outros = 100))\n",
    "print(calculaOrdenado(1000.0, ss=0.20, outros = 100))\n",
    "print(calculaOrdenado(1000.0, irs=0.20, outros=100))\n"
   ]
  },
  {
   "cell_type": "markdown",
   "metadata": {},
   "source": [
    "### ex.9."
   ]
  },
  {
   "cell_type": "code",
   "execution_count": 3,
   "metadata": {},
   "outputs": [
    {
     "name": "stdout",
     "output_type": "stream",
     "text": [
      "Dados do Pai\n",
      "Introduza o ano de nascimento: 1991\n",
      "Introduza o mes de nascimento: 19\n",
      "Introduza o dia de nascimento: 19\n",
      "Dados da Mae\n",
      "Introduza o ano de nascimento: 1992\n",
      "Introduza o mes de nascimento: 19\n",
      "Introduza o dia de nascimento: 19\n",
      "('Pai tem', 24, 'ano(s)')\n",
      "('Mae tem', 23, 'ano(s)')\n"
     ]
    }
   ],
   "source": [
    "DIA_ATUAL = 4\n",
    "MES_ATUAL = 11\n",
    "ANO_ATUAL = 2016\n",
    "print(\"Dados do Pai\")\n",
    "anoPai = int(input(\"Introduza o ano de nascimento: \"))\n",
    "mesPai = int(input(\"Introduza o mes de nascimento: \"))\n",
    "diaPai = int(input(\"Introduza o dia de nascimento: \"))\n",
    "print(\"Dados da Mae\")\n",
    "anoMae = int(input(\"Introduza o ano de nascimento: \"))\n",
    "mesMae = int(input(\"Introduza o mes de nascimento: \"))\n",
    "diaMae = int(input(\"Introduza o dia de nascimento: \"))\n",
    "if mesPai > MES_ATUAL or \\\n",
    " (mesPai == MES_ATUAL and diaPai > DIA_ATUAL):\n",
    "    print(\"Pai tem\", ANO_ATUAL - anoPai - 1, \"ano(s)\")\n",
    "else:\n",
    "    print(\"Pai tem\", ANO_ATUAL - anoPai, \"ano(s)\")\n",
    "if mesMae > MES_ATUAL or \\\n",
    " (mesMae == MES_ATUAL and diaMae > DIA_ATUAL):\n",
    "    print(\"Mae tem\", ANO_ATUAL - anoMae - 1, \"ano(s)\")\n",
    "else:\n",
    "    print(\"Mae tem\", ANO_ATUAL - anoMae, \"ano(s)\")"
   ]
  },
  {
   "cell_type": "code",
   "execution_count": null,
   "metadata": {
    "collapsed": true
   },
   "outputs": [],
   "source": []
  }
 ],
 "metadata": {
  "kernelspec": {
   "display_name": "Python 2",
   "language": "python",
   "name": "python2"
  },
  "language_info": {
   "codemirror_mode": {
    "name": "ipython",
    "version": 2
   },
   "file_extension": ".py",
   "mimetype": "text/x-python",
   "name": "python",
   "nbconvert_exporter": "python",
   "pygments_lexer": "ipython2",
   "version": "2.7.13"
  }
 },
 "nbformat": 4,
 "nbformat_minor": 2
}
